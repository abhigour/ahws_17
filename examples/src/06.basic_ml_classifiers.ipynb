{
 "cells": [
  {
   "cell_type": "markdown",
   "metadata": {
    "collapsed": true
   },
   "source": [
    "# Basic ML Classifiers"
   ]
  },
  {
   "cell_type": "code",
   "execution_count": 1,
   "metadata": {
    "collapsed": true
   },
   "outputs": [],
   "source": [
    "import os\n",
    "from os import path\n",
    "\n",
    "import numpy as np\n",
    "import cv2\n",
    "from skimage import io, color, transform\n",
    "import matplotlib.pyplot as plt"
   ]
  },
  {
   "cell_type": "code",
   "execution_count": 7,
   "metadata": {
    "collapsed": true
   },
   "outputs": [],
   "source": [
    "def resize_image(img, size, padding=255):\n",
    "    '''\n",
    "    Resize the given image to specified size\n",
    "    Inputs:\n",
    "        img = Image to be resized (Numpy NDArray)\n",
    "        size = Scalar value. Image will be resized to (size, size)\n",
    "    Returns:\n",
    "        reszd_img = Resized image (Numpy NDArray)\n",
    "    '''\n",
    "    # Append zeros or ones based on the choice of padding\n",
    "    # to maintain the aspect ratio of the image\n",
    "    rows, cols = img.shape[:2]\n",
    "    max_size = max(rows, cols)\n",
    "    canvas = np.ones((max_size, max_size), np.uint8) * padding\n",
    "    \n",
    "    # Place the actual image at the center of the canvas\n",
    "    c_x, c_y = max_size / 2, max_size / 2\n",
    "    x_beg = max(0, c_x - (cols / 2))\n",
    "    y_beg = max(0, c_y - (rows / 2))\n",
    "    x_end, y_end = x_beg + cols, y_beg + rows\n",
    "    canvas[y_beg: y_end, x_beg: x_end] = img\n",
    "        \n",
    "    # Resize the image and write to op_dir_path specified\n",
    "    reszd_img = transform.resize(canvas, (size, size))\n",
    "    reszd_img = np.asarray(reszd_img * 255, np.uint8)\n",
    "    return reszd_img"
   ]
  },
  {
   "cell_type": "code",
   "execution_count": 2,
   "metadata": {
    "collapsed": true
   },
   "outputs": [],
   "source": [
    "def extract_features(image):\n",
    "    '''\n",
    "    Extract the features from the Image\n",
    "    '''\n",
    "    gray_img = cv2.cvtColor(image, cv2.COLOR_BGR2GRAY)\n",
    "    gray_img = resize_image(gray_img, 250)\n",
    "    gray_img = cv2.GaussianBlur(gray_img, (5, 5), 0)\n",
    "    \n",
    "    # Binarize the image using Adaptive thresholding\n",
    "    th, bin_img = cv2.threshold(gray_img, 250, 255, cv2.THRESH_BINARY_INV)\n",
    "    \n",
    "    # Close the holes by Morphological operations (Erosion and Dilation)\n",
    "    struct_elem = cv2.getStructuringElement(cv2.MORPH_RECT, (5, 5))\n",
    "    smooth_bin_img = cv2.erode(bin_img, struct_elem, iterations=1)\n",
    "    smooth_bin_img = cv2.dilate(smooth_bin_img, struct_elem, iterations=2)\n",
    "    \n",
    "    # Find all the contours from the binary image\n",
    "    img, contours, heirarchy = cv2.findContours(smooth_bin_img, cv2.RETR_EXTERNAL, cv2.CHAIN_APPROX_SIMPLE)\n",
    "    \n",
    "    # Find the circularity\n",
    "    x, y, w, h = cv2.boundingRect(contours[0])\n",
    "    rect_area = w * h\n",
    "    contour_area = cv2.contourArea(contours[0])\n",
    "    circularity = contour_area / rect_area\n",
    "    \n",
    "    # Find the compactness\n",
    "    mask_img = np.zeros_like(smooth_bin_img)\n",
    "    mask_img = cv2.drawContours(mask_img, [contours[0]], -1, 255, -1)\n",
    "    white_mask_img = cv2.bitwise_and(smooth_bin_img, smooth_bin_img, mask=mask_img)\n",
    "    white_area = cv2.countNonZero(white_mask_img)\n",
    "    compactness = white_area / contour_area\n",
    "    \n",
    "    features = [circularity, compactness]\n",
    "    \n",
    "    return features"
   ]
  },
  {
   "cell_type": "code",
   "execution_count": 3,
   "metadata": {
    "collapsed": true
   },
   "outputs": [],
   "source": [
    "def load_data_from_imgs(data_dir, class_label):\n",
    "    '''\n",
    "    Read images from the data directory\n",
    "    Extract features from images and load that into array\n",
    "    '''\n",
    "    all_features = []\n",
    "    for img_name in os.listdir(data_dir):\n",
    "        img_path = path.join(data_dir, img_name)\n",
    "        image = cv2.imread(img_path)\n",
    "        img_features = extract_features(image)\n",
    "        img_features.append(class_label)\n",
    "        all_features.append(img_features)\n",
    "    all_features = np.array(all_features, np.float)\n",
    "    return all_features"
   ]
  },
  {
   "cell_type": "code",
   "execution_count": 5,
   "metadata": {
    "collapsed": true
   },
   "outputs": [],
   "source": [
    "def test_model(model, X, y):\n",
    "    '''\n",
    "    Test the trained model with the test data\n",
    "    '''\n",
    "    pred_acc_list = []\n",
    "    for sample, label in zip(X, y):\n",
    "        pred = model.predict(sample.reshape(1, -1))[0]\n",
    "        pred_acc_list.append(int(pred) == int(label))\n",
    "    accuracy = sum(pred_acc_list) / float(len(pred_acc_list)) * 100\n",
    "    return accuracy"
   ]
  },
  {
   "cell_type": "code",
   "execution_count": 8,
   "metadata": {},
   "outputs": [
    {
     "name": "stderr",
     "output_type": "stream",
     "text": [
      "/home/dhivakar/sys/sw/virt_envs/ahws/local/lib/python2.7/site-packages/skimage/transform/_warps.py:84: UserWarning: The default mode, 'constant', will be changed to 'reflect' in skimage 0.15.\n",
      "  warn(\"The default mode, 'constant', will be changed to 'reflect' in \"\n"
     ]
    }
   ],
   "source": [
    "data_dir = '../data/nuts_n_bolts_master/all_svm/'\n",
    "train_dir = path.join(data_dir, 'train')\n",
    "test_dir = path.join(data_dir, 'test')\n",
    "\n",
    "# Collect the Training and Test data\n",
    "nuts_class, bolts_class = 0, 1\n",
    "train_nuts_data = load_data_from_imgs(path.join(train_dir, 'nuts'), nuts_class)\n",
    "train_bolts_data = load_data_from_imgs(path.join(train_dir, 'bolts'), bolts_class)\n",
    "train_data = np.append(train_nuts_data, train_bolts_data, axis=0)\n",
    "np.random.shuffle(train_data)\n",
    "\n",
    "# Test data\n",
    "test_nuts_data = load_data_from_imgs(path.join(test_dir, 'nuts'), nuts_class)\n",
    "test_bolts_data = load_data_from_imgs(path.join(test_dir, 'bolts'), bolts_class)\n",
    "test_data = np.append(test_nuts_data, test_bolts_data, axis=0)\n",
    "np.random.shuffle(test_data)"
   ]
  },
  {
   "cell_type": "code",
   "execution_count": 9,
   "metadata": {
    "collapsed": true
   },
   "outputs": [],
   "source": [
    "from sklearn import tree\n",
    "X, y = train_data[:, :2], train_data[:, 2]\n",
    "test_X, test_y = test_data[:, :2], test_data[:, 2]\n",
    "dec_tr_clf = tree.DecisionTreeClassifier()\n",
    "dec_tr_clf = dec_tr_clf.fit(X, y)"
   ]
  },
  {
   "cell_type": "code",
   "execution_count": 11,
   "metadata": {},
   "outputs": [
    {
     "name": "stdout",
     "output_type": "stream",
     "text": [
      "('Accuracy', 87.2340425531915)\n"
     ]
    }
   ],
   "source": [
    "print('Accuracy', test_model(dec_tr_clf, test_X, test_y))"
   ]
  },
  {
   "cell_type": "code",
   "execution_count": 12,
   "metadata": {},
   "outputs": [
    {
     "data": {
      "image/svg+xml": [
       "<?xml version=\"1.0\" encoding=\"UTF-8\" standalone=\"no\"?>\n",
       "<!DOCTYPE svg PUBLIC \"-//W3C//DTD SVG 1.1//EN\"\n",
       " \"http://www.w3.org/Graphics/SVG/1.1/DTD/svg11.dtd\">\n",
       "<!-- Generated by graphviz version 2.36.0 (20140111.2315)\n",
       " -->\n",
       "<!-- Title: Tree Pages: 1 -->\n",
       "<svg width=\"713pt\" height=\"676pt\"\n",
       " viewBox=\"0.00 0.00 713.00 676.00\" xmlns=\"http://www.w3.org/2000/svg\" xmlns:xlink=\"http://www.w3.org/1999/xlink\">\n",
       "<g id=\"graph0\" class=\"graph\" transform=\"scale(1 1) rotate(0) translate(4 672)\">\n",
       "<title>Tree</title>\n",
       "<polygon fill=\"white\" stroke=\"none\" points=\"-4,4 -4,-672 709,-672 709,4 -4,4\"/>\n",
       "<!-- 0 -->\n",
       "<g id=\"node1\" class=\"node\"><title>0</title>\n",
       "<path fill=\"none\" stroke=\"black\" d=\"M303.25,-667.5C303.25,-667.5 196.75,-667.5 196.75,-667.5 190.75,-667.5 184.75,-661.5 184.75,-655.5 184.75,-655.5 184.75,-596.5 184.75,-596.5 184.75,-590.5 190.75,-584.5 196.75,-584.5 196.75,-584.5 303.25,-584.5 303.25,-584.5 309.25,-584.5 315.25,-590.5 315.25,-596.5 315.25,-596.5 315.25,-655.5 315.25,-655.5 315.25,-661.5 309.25,-667.5 303.25,-667.5\"/>\n",
       "<text text-anchor=\"start\" x=\"192.5\" y=\"-652.3\" font-family=\"Helvetica,sans-Serif\" font-size=\"14.00\">circularity ≤ 0.6531</text>\n",
       "<text text-anchor=\"start\" x=\"222\" y=\"-637.3\" font-family=\"Helvetica,sans-Serif\" font-size=\"14.00\">gini = 0.5</text>\n",
       "<text text-anchor=\"start\" x=\"205\" y=\"-622.3\" font-family=\"Helvetica,sans-Serif\" font-size=\"14.00\">samples = 100</text>\n",
       "<text text-anchor=\"start\" x=\"203\" y=\"-607.3\" font-family=\"Helvetica,sans-Serif\" font-size=\"14.00\">value = [50, 50]</text>\n",
       "<text text-anchor=\"start\" x=\"216\" y=\"-592.3\" font-family=\"Helvetica,sans-Serif\" font-size=\"14.00\">class = Nut</text>\n",
       "</g>\n",
       "<!-- 1 -->\n",
       "<g id=\"node2\" class=\"node\"><title>1</title>\n",
       "<path fill=\"#399de5\" stroke=\"black\" d=\"M221.5,-540C221.5,-540 144.5,-540 144.5,-540 138.5,-540 132.5,-534 132.5,-528 132.5,-528 132.5,-484 132.5,-484 132.5,-478 138.5,-472 144.5,-472 144.5,-472 221.5,-472 221.5,-472 227.5,-472 233.5,-478 233.5,-484 233.5,-484 233.5,-528 233.5,-528 233.5,-534 227.5,-540 221.5,-540\"/>\n",
       "<text text-anchor=\"start\" x=\"155\" y=\"-524.8\" font-family=\"Helvetica,sans-Serif\" font-size=\"14.00\">gini = 0.0</text>\n",
       "<text text-anchor=\"start\" x=\"142\" y=\"-509.8\" font-family=\"Helvetica,sans-Serif\" font-size=\"14.00\">samples = 42</text>\n",
       "<text text-anchor=\"start\" x=\"140\" y=\"-494.8\" font-family=\"Helvetica,sans-Serif\" font-size=\"14.00\">value = [0, 42]</text>\n",
       "<text text-anchor=\"start\" x=\"148\" y=\"-479.8\" font-family=\"Helvetica,sans-Serif\" font-size=\"14.00\">class = Bolt</text>\n",
       "</g>\n",
       "<!-- 0&#45;&gt;1 -->\n",
       "<g id=\"edge1\" class=\"edge\"><title>0&#45;&gt;1</title>\n",
       "<path fill=\"none\" stroke=\"black\" d=\"M226.942,-584.391C220.491,-573.029 213.465,-560.655 206.963,-549.203\"/>\n",
       "<polygon fill=\"black\" stroke=\"black\" points=\"209.862,-547.22 201.881,-540.252 203.775,-550.677 209.862,-547.22\"/>\n",
       "<text text-anchor=\"middle\" x=\"195.237\" y=\"-560.653\" font-family=\"Helvetica,sans-Serif\" font-size=\"14.00\">True</text>\n",
       "</g>\n",
       "<!-- 2 -->\n",
       "<g id=\"node3\" class=\"node\"><title>2</title>\n",
       "<path fill=\"#e58139\" fill-opacity=\"0.839216\" stroke=\"black\" d=\"M371.25,-547.5C371.25,-547.5 264.75,-547.5 264.75,-547.5 258.75,-547.5 252.75,-541.5 252.75,-535.5 252.75,-535.5 252.75,-476.5 252.75,-476.5 252.75,-470.5 258.75,-464.5 264.75,-464.5 264.75,-464.5 371.25,-464.5 371.25,-464.5 377.25,-464.5 383.25,-470.5 383.25,-476.5 383.25,-476.5 383.25,-535.5 383.25,-535.5 383.25,-541.5 377.25,-547.5 371.25,-547.5\"/>\n",
       "<text text-anchor=\"start\" x=\"260.5\" y=\"-532.3\" font-family=\"Helvetica,sans-Serif\" font-size=\"14.00\">circularity ≤ 0.8105</text>\n",
       "<text text-anchor=\"start\" x=\"278.5\" y=\"-517.3\" font-family=\"Helvetica,sans-Serif\" font-size=\"14.00\">gini = 0.2378</text>\n",
       "<text text-anchor=\"start\" x=\"277\" y=\"-502.3\" font-family=\"Helvetica,sans-Serif\" font-size=\"14.00\">samples = 58</text>\n",
       "<text text-anchor=\"start\" x=\"275\" y=\"-487.3\" font-family=\"Helvetica,sans-Serif\" font-size=\"14.00\">value = [50, 8]</text>\n",
       "<text text-anchor=\"start\" x=\"284\" y=\"-472.3\" font-family=\"Helvetica,sans-Serif\" font-size=\"14.00\">class = Nut</text>\n",
       "</g>\n",
       "<!-- 0&#45;&gt;2 -->\n",
       "<g id=\"edge2\" class=\"edge\"><title>0&#45;&gt;2</title>\n",
       "<path fill=\"none\" stroke=\"black\" d=\"M273.402,-584.391C278.584,-575.398 284.131,-565.772 289.491,-556.471\"/>\n",
       "<polygon fill=\"black\" stroke=\"black\" points=\"292.595,-558.096 294.555,-547.684 286.53,-554.601 292.595,-558.096\"/>\n",
       "<text text-anchor=\"middle\" x=\"301.045\" y=\"-568.127\" font-family=\"Helvetica,sans-Serif\" font-size=\"14.00\">False</text>\n",
       "</g>\n",
       "<!-- 3 -->\n",
       "<g id=\"node4\" class=\"node\"><title>3</title>\n",
       "<path fill=\"#e58139\" fill-opacity=\"0.956863\" stroke=\"black\" d=\"M291.25,-427.5C291.25,-427.5 184.75,-427.5 184.75,-427.5 178.75,-427.5 172.75,-421.5 172.75,-415.5 172.75,-415.5 172.75,-356.5 172.75,-356.5 172.75,-350.5 178.75,-344.5 184.75,-344.5 184.75,-344.5 291.25,-344.5 291.25,-344.5 297.25,-344.5 303.25,-350.5 303.25,-356.5 303.25,-356.5 303.25,-415.5 303.25,-415.5 303.25,-421.5 297.25,-427.5 291.25,-427.5\"/>\n",
       "<text text-anchor=\"start\" x=\"180.5\" y=\"-412.3\" font-family=\"Helvetica,sans-Serif\" font-size=\"14.00\">circularity ≤ 0.7026</text>\n",
       "<text text-anchor=\"start\" x=\"198.5\" y=\"-397.3\" font-family=\"Helvetica,sans-Serif\" font-size=\"14.00\">gini = 0.0799</text>\n",
       "<text text-anchor=\"start\" x=\"197\" y=\"-382.3\" font-family=\"Helvetica,sans-Serif\" font-size=\"14.00\">samples = 48</text>\n",
       "<text text-anchor=\"start\" x=\"195\" y=\"-367.3\" font-family=\"Helvetica,sans-Serif\" font-size=\"14.00\">value = [46, 2]</text>\n",
       "<text text-anchor=\"start\" x=\"204\" y=\"-352.3\" font-family=\"Helvetica,sans-Serif\" font-size=\"14.00\">class = Nut</text>\n",
       "</g>\n",
       "<!-- 2&#45;&gt;3 -->\n",
       "<g id=\"edge3\" class=\"edge\"><title>2&#45;&gt;3</title>\n",
       "<path fill=\"none\" stroke=\"black\" d=\"M290.469,-464.391C284.309,-455.306 277.711,-445.574 271.345,-436.183\"/>\n",
       "<polygon fill=\"black\" stroke=\"black\" points=\"274.091,-433.997 265.582,-427.684 268.297,-437.925 274.091,-433.997\"/>\n",
       "</g>\n",
       "<!-- 8 -->\n",
       "<g id=\"node9\" class=\"node\"><title>8</title>\n",
       "<path fill=\"#399de5\" fill-opacity=\"0.333333\" stroke=\"black\" d=\"M464,-427.5C464,-427.5 334,-427.5 334,-427.5 328,-427.5 322,-421.5 322,-415.5 322,-415.5 322,-356.5 322,-356.5 322,-350.5 328,-344.5 334,-344.5 334,-344.5 464,-344.5 464,-344.5 470,-344.5 476,-350.5 476,-356.5 476,-356.5 476,-415.5 476,-415.5 476,-421.5 470,-427.5 464,-427.5\"/>\n",
       "<text text-anchor=\"start\" x=\"330\" y=\"-412.3\" font-family=\"Helvetica,sans-Serif\" font-size=\"14.00\">compactness ≤ 1.0054</text>\n",
       "<text text-anchor=\"start\" x=\"367\" y=\"-397.3\" font-family=\"Helvetica,sans-Serif\" font-size=\"14.00\">gini = 0.48</text>\n",
       "<text text-anchor=\"start\" x=\"358\" y=\"-382.3\" font-family=\"Helvetica,sans-Serif\" font-size=\"14.00\">samples = 10</text>\n",
       "<text text-anchor=\"start\" x=\"359.5\" y=\"-367.3\" font-family=\"Helvetica,sans-Serif\" font-size=\"14.00\">value = [4, 6]</text>\n",
       "<text text-anchor=\"start\" x=\"364\" y=\"-352.3\" font-family=\"Helvetica,sans-Serif\" font-size=\"14.00\">class = Bolt</text>\n",
       "</g>\n",
       "<!-- 2&#45;&gt;8 -->\n",
       "<g id=\"edge8\" class=\"edge\"><title>2&#45;&gt;8</title>\n",
       "<path fill=\"none\" stroke=\"black\" d=\"M345.876,-464.391C352.112,-455.306 358.793,-445.574 365.239,-436.183\"/>\n",
       "<polygon fill=\"black\" stroke=\"black\" points=\"368.299,-437.909 371.073,-427.684 362.528,-433.947 368.299,-437.909\"/>\n",
       "</g>\n",
       "<!-- 4 -->\n",
       "<g id=\"node5\" class=\"node\"><title>4</title>\n",
       "<path fill=\"none\" stroke=\"black\" d=\"M168,-307.5C168,-307.5 38,-307.5 38,-307.5 32,-307.5 26,-301.5 26,-295.5 26,-295.5 26,-236.5 26,-236.5 26,-230.5 32,-224.5 38,-224.5 38,-224.5 168,-224.5 168,-224.5 174,-224.5 180,-230.5 180,-236.5 180,-236.5 180,-295.5 180,-295.5 180,-301.5 174,-307.5 168,-307.5\"/>\n",
       "<text text-anchor=\"start\" x=\"34\" y=\"-292.3\" font-family=\"Helvetica,sans-Serif\" font-size=\"14.00\">compactness ≤ 1.0393</text>\n",
       "<text text-anchor=\"start\" x=\"75\" y=\"-277.3\" font-family=\"Helvetica,sans-Serif\" font-size=\"14.00\">gini = 0.5</text>\n",
       "<text text-anchor=\"start\" x=\"65.5\" y=\"-262.3\" font-family=\"Helvetica,sans-Serif\" font-size=\"14.00\">samples = 4</text>\n",
       "<text text-anchor=\"start\" x=\"63.5\" y=\"-247.3\" font-family=\"Helvetica,sans-Serif\" font-size=\"14.00\">value = [2, 2]</text>\n",
       "<text text-anchor=\"start\" x=\"69\" y=\"-232.3\" font-family=\"Helvetica,sans-Serif\" font-size=\"14.00\">class = Nut</text>\n",
       "</g>\n",
       "<!-- 3&#45;&gt;4 -->\n",
       "<g id=\"edge4\" class=\"edge\"><title>3&#45;&gt;4</title>\n",
       "<path fill=\"none\" stroke=\"black\" d=\"M191.541,-344.391C180.51,-334.749 168.646,-324.38 157.3,-314.463\"/>\n",
       "<polygon fill=\"black\" stroke=\"black\" points=\"159.378,-311.63 149.545,-307.684 154.771,-316.9 159.378,-311.63\"/>\n",
       "</g>\n",
       "<!-- 7 -->\n",
       "<g id=\"node8\" class=\"node\"><title>7</title>\n",
       "<path fill=\"#e58139\" stroke=\"black\" d=\"M287.5,-300C287.5,-300 210.5,-300 210.5,-300 204.5,-300 198.5,-294 198.5,-288 198.5,-288 198.5,-244 198.5,-244 198.5,-238 204.5,-232 210.5,-232 210.5,-232 287.5,-232 287.5,-232 293.5,-232 299.5,-238 299.5,-244 299.5,-244 299.5,-288 299.5,-288 299.5,-294 293.5,-300 287.5,-300\"/>\n",
       "<text text-anchor=\"start\" x=\"221\" y=\"-284.8\" font-family=\"Helvetica,sans-Serif\" font-size=\"14.00\">gini = 0.0</text>\n",
       "<text text-anchor=\"start\" x=\"208\" y=\"-269.8\" font-family=\"Helvetica,sans-Serif\" font-size=\"14.00\">samples = 44</text>\n",
       "<text text-anchor=\"start\" x=\"206\" y=\"-254.8\" font-family=\"Helvetica,sans-Serif\" font-size=\"14.00\">value = [44, 0]</text>\n",
       "<text text-anchor=\"start\" x=\"215\" y=\"-239.8\" font-family=\"Helvetica,sans-Serif\" font-size=\"14.00\">class = Nut</text>\n",
       "</g>\n",
       "<!-- 3&#45;&gt;7 -->\n",
       "<g id=\"edge7\" class=\"edge\"><title>3&#45;&gt;7</title>\n",
       "<path fill=\"none\" stroke=\"black\" d=\"M241.786,-344.391C242.813,-333.366 243.93,-321.389 244.971,-310.226\"/>\n",
       "<polygon fill=\"black\" stroke=\"black\" points=\"248.457,-310.534 245.9,-300.252 241.487,-309.884 248.457,-310.534\"/>\n",
       "</g>\n",
       "<!-- 5 -->\n",
       "<g id=\"node6\" class=\"node\"><title>5</title>\n",
       "<path fill=\"#399de5\" stroke=\"black\" d=\"M82.25,-180C82.25,-180 11.75,-180 11.75,-180 5.75,-180 -0.25,-174 -0.25,-168 -0.25,-168 -0.25,-124 -0.25,-124 -0.25,-118 5.75,-112 11.75,-112 11.75,-112 82.25,-112 82.25,-112 88.25,-112 94.25,-118 94.25,-124 94.25,-124 94.25,-168 94.25,-168 94.25,-174 88.25,-180 82.25,-180\"/>\n",
       "<text text-anchor=\"start\" x=\"19\" y=\"-164.8\" font-family=\"Helvetica,sans-Serif\" font-size=\"14.00\">gini = 0.0</text>\n",
       "<text text-anchor=\"start\" x=\"9.5\" y=\"-149.8\" font-family=\"Helvetica,sans-Serif\" font-size=\"14.00\">samples = 2</text>\n",
       "<text text-anchor=\"start\" x=\"7.5\" y=\"-134.8\" font-family=\"Helvetica,sans-Serif\" font-size=\"14.00\">value = [0, 2]</text>\n",
       "<text text-anchor=\"start\" x=\"12\" y=\"-119.8\" font-family=\"Helvetica,sans-Serif\" font-size=\"14.00\">class = Bolt</text>\n",
       "</g>\n",
       "<!-- 4&#45;&gt;5 -->\n",
       "<g id=\"edge5\" class=\"edge\"><title>4&#45;&gt;5</title>\n",
       "<path fill=\"none\" stroke=\"black\" d=\"M83.728,-224.391C78.389,-213.141 72.5796,-200.9 67.1899,-189.543\"/>\n",
       "<polygon fill=\"black\" stroke=\"black\" points=\"70.2303,-187.786 62.7808,-180.252 63.9063,-190.787 70.2303,-187.786\"/>\n",
       "</g>\n",
       "<!-- 6 -->\n",
       "<g id=\"node7\" class=\"node\"><title>6</title>\n",
       "<path fill=\"#e58139\" stroke=\"black\" d=\"M195.25,-180C195.25,-180 124.75,-180 124.75,-180 118.75,-180 112.75,-174 112.75,-168 112.75,-168 112.75,-124 112.75,-124 112.75,-118 118.75,-112 124.75,-112 124.75,-112 195.25,-112 195.25,-112 201.25,-112 207.25,-118 207.25,-124 207.25,-124 207.25,-168 207.25,-168 207.25,-174 201.25,-180 195.25,-180\"/>\n",
       "<text text-anchor=\"start\" x=\"132\" y=\"-164.8\" font-family=\"Helvetica,sans-Serif\" font-size=\"14.00\">gini = 0.0</text>\n",
       "<text text-anchor=\"start\" x=\"122.5\" y=\"-149.8\" font-family=\"Helvetica,sans-Serif\" font-size=\"14.00\">samples = 2</text>\n",
       "<text text-anchor=\"start\" x=\"120.5\" y=\"-134.8\" font-family=\"Helvetica,sans-Serif\" font-size=\"14.00\">value = [2, 0]</text>\n",
       "<text text-anchor=\"start\" x=\"126\" y=\"-119.8\" font-family=\"Helvetica,sans-Serif\" font-size=\"14.00\">class = Nut</text>\n",
       "</g>\n",
       "<!-- 4&#45;&gt;6 -->\n",
       "<g id=\"edge6\" class=\"edge\"><title>4&#45;&gt;6</title>\n",
       "<path fill=\"none\" stroke=\"black\" d=\"M122.616,-224.391C128.05,-213.141 133.964,-200.9 139.45,-189.543\"/>\n",
       "<polygon fill=\"black\" stroke=\"black\" points=\"142.739,-190.779 143.937,-180.252 136.436,-187.735 142.739,-190.779\"/>\n",
       "</g>\n",
       "<!-- 9 -->\n",
       "<g id=\"node10\" class=\"node\"><title>9</title>\n",
       "<path fill=\"#399de5\" stroke=\"black\" d=\"M423.25,-300C423.25,-300 352.75,-300 352.75,-300 346.75,-300 340.75,-294 340.75,-288 340.75,-288 340.75,-244 340.75,-244 340.75,-238 346.75,-232 352.75,-232 352.75,-232 423.25,-232 423.25,-232 429.25,-232 435.25,-238 435.25,-244 435.25,-244 435.25,-288 435.25,-288 435.25,-294 429.25,-300 423.25,-300\"/>\n",
       "<text text-anchor=\"start\" x=\"360\" y=\"-284.8\" font-family=\"Helvetica,sans-Serif\" font-size=\"14.00\">gini = 0.0</text>\n",
       "<text text-anchor=\"start\" x=\"350.5\" y=\"-269.8\" font-family=\"Helvetica,sans-Serif\" font-size=\"14.00\">samples = 3</text>\n",
       "<text text-anchor=\"start\" x=\"348.5\" y=\"-254.8\" font-family=\"Helvetica,sans-Serif\" font-size=\"14.00\">value = [0, 3]</text>\n",
       "<text text-anchor=\"start\" x=\"353\" y=\"-239.8\" font-family=\"Helvetica,sans-Serif\" font-size=\"14.00\">class = Bolt</text>\n",
       "</g>\n",
       "<!-- 8&#45;&gt;9 -->\n",
       "<g id=\"edge9\" class=\"edge\"><title>8&#45;&gt;9</title>\n",
       "<path fill=\"none\" stroke=\"black\" d=\"M395.214,-344.391C394.187,-333.366 393.07,-321.389 392.029,-310.226\"/>\n",
       "<polygon fill=\"black\" stroke=\"black\" points=\"395.513,-309.884 391.1,-300.252 388.543,-310.534 395.513,-309.884\"/>\n",
       "</g>\n",
       "<!-- 10 -->\n",
       "<g id=\"node11\" class=\"node\"><title>10</title>\n",
       "<path fill=\"#e58139\" fill-opacity=\"0.250980\" stroke=\"black\" d=\"M596,-307.5C596,-307.5 466,-307.5 466,-307.5 460,-307.5 454,-301.5 454,-295.5 454,-295.5 454,-236.5 454,-236.5 454,-230.5 460,-224.5 466,-224.5 466,-224.5 596,-224.5 596,-224.5 602,-224.5 608,-230.5 608,-236.5 608,-236.5 608,-295.5 608,-295.5 608,-301.5 602,-307.5 596,-307.5\"/>\n",
       "<text text-anchor=\"start\" x=\"462\" y=\"-292.3\" font-family=\"Helvetica,sans-Serif\" font-size=\"14.00\">compactness ≤ 1.0116</text>\n",
       "<text text-anchor=\"start\" x=\"491.5\" y=\"-277.3\" font-family=\"Helvetica,sans-Serif\" font-size=\"14.00\">gini = 0.4898</text>\n",
       "<text text-anchor=\"start\" x=\"493.5\" y=\"-262.3\" font-family=\"Helvetica,sans-Serif\" font-size=\"14.00\">samples = 7</text>\n",
       "<text text-anchor=\"start\" x=\"491.5\" y=\"-247.3\" font-family=\"Helvetica,sans-Serif\" font-size=\"14.00\">value = [4, 3]</text>\n",
       "<text text-anchor=\"start\" x=\"497\" y=\"-232.3\" font-family=\"Helvetica,sans-Serif\" font-size=\"14.00\">class = Nut</text>\n",
       "</g>\n",
       "<!-- 8&#45;&gt;10 -->\n",
       "<g id=\"edge10\" class=\"edge\"><title>8&#45;&gt;10</title>\n",
       "<path fill=\"none\" stroke=\"black\" d=\"M444.427,-344.391C455.212,-334.749 466.812,-324.38 477.906,-314.463\"/>\n",
       "<polygon fill=\"black\" stroke=\"black\" points=\"480.367,-316.958 485.489,-307.684 475.701,-311.739 480.367,-316.958\"/>\n",
       "</g>\n",
       "<!-- 11 -->\n",
       "<g id=\"node12\" class=\"node\"><title>11</title>\n",
       "<path fill=\"#e58139\" stroke=\"black\" d=\"M494.25,-180C494.25,-180 423.75,-180 423.75,-180 417.75,-180 411.75,-174 411.75,-168 411.75,-168 411.75,-124 411.75,-124 411.75,-118 417.75,-112 423.75,-112 423.75,-112 494.25,-112 494.25,-112 500.25,-112 506.25,-118 506.25,-124 506.25,-124 506.25,-168 506.25,-168 506.25,-174 500.25,-180 494.25,-180\"/>\n",
       "<text text-anchor=\"start\" x=\"431\" y=\"-164.8\" font-family=\"Helvetica,sans-Serif\" font-size=\"14.00\">gini = 0.0</text>\n",
       "<text text-anchor=\"start\" x=\"421.5\" y=\"-149.8\" font-family=\"Helvetica,sans-Serif\" font-size=\"14.00\">samples = 3</text>\n",
       "<text text-anchor=\"start\" x=\"419.5\" y=\"-134.8\" font-family=\"Helvetica,sans-Serif\" font-size=\"14.00\">value = [3, 0]</text>\n",
       "<text text-anchor=\"start\" x=\"425\" y=\"-119.8\" font-family=\"Helvetica,sans-Serif\" font-size=\"14.00\">class = Nut</text>\n",
       "</g>\n",
       "<!-- 10&#45;&gt;11 -->\n",
       "<g id=\"edge11\" class=\"edge\"><title>10&#45;&gt;11</title>\n",
       "<path fill=\"none\" stroke=\"black\" d=\"M506.222,-224.391C499.22,-212.916 491.589,-200.41 484.543,-188.863\"/>\n",
       "<polygon fill=\"black\" stroke=\"black\" points=\"487.486,-186.966 479.29,-180.252 481.511,-190.612 487.486,-186.966\"/>\n",
       "</g>\n",
       "<!-- 12 -->\n",
       "<g id=\"node13\" class=\"node\"><title>12</title>\n",
       "<path fill=\"#399de5\" fill-opacity=\"0.666667\" stroke=\"black\" d=\"M667,-187.5C667,-187.5 537,-187.5 537,-187.5 531,-187.5 525,-181.5 525,-175.5 525,-175.5 525,-116.5 525,-116.5 525,-110.5 531,-104.5 537,-104.5 537,-104.5 667,-104.5 667,-104.5 673,-104.5 679,-110.5 679,-116.5 679,-116.5 679,-175.5 679,-175.5 679,-181.5 673,-187.5 667,-187.5\"/>\n",
       "<text text-anchor=\"start\" x=\"533\" y=\"-172.3\" font-family=\"Helvetica,sans-Serif\" font-size=\"14.00\">compactness ≤ 1.0158</text>\n",
       "<text text-anchor=\"start\" x=\"566.5\" y=\"-157.3\" font-family=\"Helvetica,sans-Serif\" font-size=\"14.00\">gini = 0.375</text>\n",
       "<text text-anchor=\"start\" x=\"564.5\" y=\"-142.3\" font-family=\"Helvetica,sans-Serif\" font-size=\"14.00\">samples = 4</text>\n",
       "<text text-anchor=\"start\" x=\"562.5\" y=\"-127.3\" font-family=\"Helvetica,sans-Serif\" font-size=\"14.00\">value = [1, 3]</text>\n",
       "<text text-anchor=\"start\" x=\"567\" y=\"-112.3\" font-family=\"Helvetica,sans-Serif\" font-size=\"14.00\">class = Bolt</text>\n",
       "</g>\n",
       "<!-- 10&#45;&gt;12 -->\n",
       "<g id=\"edge12\" class=\"edge\"><title>10&#45;&gt;12</title>\n",
       "<path fill=\"none\" stroke=\"black\" d=\"M555.434,-224.391C560.845,-215.398 566.637,-205.772 572.234,-196.471\"/>\n",
       "<polygon fill=\"black\" stroke=\"black\" points=\"575.364,-198.057 577.521,-187.684 569.366,-194.448 575.364,-198.057\"/>\n",
       "</g>\n",
       "<!-- 13 -->\n",
       "<g id=\"node14\" class=\"node\"><title>13</title>\n",
       "<path fill=\"#399de5\" stroke=\"black\" d=\"M580.25,-68C580.25,-68 509.75,-68 509.75,-68 503.75,-68 497.75,-62 497.75,-56 497.75,-56 497.75,-12 497.75,-12 497.75,-6 503.75,-0 509.75,-0 509.75,-0 580.25,-0 580.25,-0 586.25,-0 592.25,-6 592.25,-12 592.25,-12 592.25,-56 592.25,-56 592.25,-62 586.25,-68 580.25,-68\"/>\n",
       "<text text-anchor=\"start\" x=\"517\" y=\"-52.8\" font-family=\"Helvetica,sans-Serif\" font-size=\"14.00\">gini = 0.0</text>\n",
       "<text text-anchor=\"start\" x=\"507.5\" y=\"-37.8\" font-family=\"Helvetica,sans-Serif\" font-size=\"14.00\">samples = 3</text>\n",
       "<text text-anchor=\"start\" x=\"505.5\" y=\"-22.8\" font-family=\"Helvetica,sans-Serif\" font-size=\"14.00\">value = [0, 3]</text>\n",
       "<text text-anchor=\"start\" x=\"510\" y=\"-7.8\" font-family=\"Helvetica,sans-Serif\" font-size=\"14.00\">class = Bolt</text>\n",
       "</g>\n",
       "<!-- 12&#45;&gt;13 -->\n",
       "<g id=\"edge13\" class=\"edge\"><title>12&#45;&gt;13</title>\n",
       "<path fill=\"none\" stroke=\"black\" d=\"M580.937,-104.353C576.371,-95.5406 571.531,-86.2001 566.932,-77.3253\"/>\n",
       "<polygon fill=\"black\" stroke=\"black\" points=\"569.957,-75.5554 562.249,-68.287 563.742,-78.776 569.957,-75.5554\"/>\n",
       "</g>\n",
       "<!-- 14 -->\n",
       "<g id=\"node15\" class=\"node\"><title>14</title>\n",
       "<path fill=\"#e58139\" stroke=\"black\" d=\"M693.25,-68C693.25,-68 622.75,-68 622.75,-68 616.75,-68 610.75,-62 610.75,-56 610.75,-56 610.75,-12 610.75,-12 610.75,-6 616.75,-0 622.75,-0 622.75,-0 693.25,-0 693.25,-0 699.25,-0 705.25,-6 705.25,-12 705.25,-12 705.25,-56 705.25,-56 705.25,-62 699.25,-68 693.25,-68\"/>\n",
       "<text text-anchor=\"start\" x=\"630\" y=\"-52.8\" font-family=\"Helvetica,sans-Serif\" font-size=\"14.00\">gini = 0.0</text>\n",
       "<text text-anchor=\"start\" x=\"620.5\" y=\"-37.8\" font-family=\"Helvetica,sans-Serif\" font-size=\"14.00\">samples = 1</text>\n",
       "<text text-anchor=\"start\" x=\"618.5\" y=\"-22.8\" font-family=\"Helvetica,sans-Serif\" font-size=\"14.00\">value = [1, 0]</text>\n",
       "<text text-anchor=\"start\" x=\"624\" y=\"-7.8\" font-family=\"Helvetica,sans-Serif\" font-size=\"14.00\">class = Nut</text>\n",
       "</g>\n",
       "<!-- 12&#45;&gt;14 -->\n",
       "<g id=\"edge14\" class=\"edge\"><title>12&#45;&gt;14</title>\n",
       "<path fill=\"none\" stroke=\"black\" d=\"M622.693,-104.353C627.179,-95.5406 631.934,-86.2001 636.453,-77.3253\"/>\n",
       "<polygon fill=\"black\" stroke=\"black\" points=\"639.636,-78.7865 641.054,-68.287 633.398,-75.6107 639.636,-78.7865\"/>\n",
       "</g>\n",
       "</g>\n",
       "</svg>\n"
      ],
      "text/plain": [
       "<graphviz.files.Source at 0x7f8a139a9ad0>"
      ]
     },
     "execution_count": 12,
     "metadata": {},
     "output_type": "execute_result"
    }
   ],
   "source": [
    "import graphviz \n",
    "dot_data = tree.export_graphviz(dec_tr_clf, out_file=None,\n",
    "                                feature_names=['circularity', 'compactness'],\n",
    "                                class_names=['Nut', 'Bolt'],\n",
    "                                filled=True, rounded=True,\n",
    "                                special_characters=True) \n",
    "graph = graphviz.Source(dot_data) \n",
    "graph.render(\"Nuts and Bolts\")\n",
    "graph"
   ]
  },
  {
   "cell_type": "code",
   "execution_count": 42,
   "metadata": {},
   "outputs": [
    {
     "data": {
      "image/png": "[encoded data removed]",
      "text/plain": [
       "<matplotlib.figure.Figure at 0x7f89b1cee050>"
      ]
     },
     "metadata": {},
     "output_type": "display_data"
    }
   ],
   "source": [
    "plot_step = 0.02\n",
    "x_min, x_max = X[:, 0].min() - 1, X[:, 0].max() + 1\n",
    "y_min, y_max = X[:, 1].min() - 1, X[:, 1].max() + 1\n",
    "xx, yy = np.meshgrid(np.arange(x_min, x_max, plot_step),\n",
    "                     np.arange(y_min, y_max, plot_step))\n",
    "\n",
    "Z = dec_tr_clf.predict(np.c_[xx.ravel(), yy.ravel()])\n",
    "Z = Z.reshape(xx.shape)\n",
    "cs = plt.contourf(xx, yy, Z, cmap=plt.cm.RdYlBu)\n",
    "\n",
    "plt.xlabel('Circularity')\n",
    "plt.ylabel('Compactness')\n",
    "target_names = ['Nut', 'Bolt']\n",
    "\n",
    "# Plot the training points\n",
    "for i, color in zip(range(2), 'rb'):\n",
    "    idx = np.where(y == i)\n",
    "    plt.scatter(X[idx, 0], X[idx, 1], c=color, label=target_names[i],\n",
    "                cmap=plt.cm.RdYlBu, edgecolor='black', s=20)\n",
    "plt.xlim([0.2, 1.2])\n",
    "plt.ylim([0.2, 1.5])\n",
    "plt.show()"
   ]
  },
  {
   "cell_type": "markdown",
   "metadata": {},
   "source": [
    "## Logistic Regression"
   ]
  },
  {
   "cell_type": "code",
   "execution_count": 26,
   "metadata": {},
   "outputs": [
    {
     "data": {
      "text/plain": [
       "LogisticRegression(C=1.0, class_weight=None, dual=False, fit_intercept=True,\n",
       "          intercept_scaling=1, max_iter=100, multi_class='ovr', n_jobs=1,\n",
       "          penalty='l2', random_state=None, solver='liblinear', tol=0.0001,\n",
       "          verbose=0, warm_start=False)"
      ]
     },
     "execution_count": 26,
     "metadata": {},
     "output_type": "execute_result"
    }
   ],
   "source": [
    "from sklearn import linear_model\n",
    "log_reg_clf = linear_model.LogisticRegression()\n",
    "\n",
    "# we create an instance of Neighbours Classifier and fit the data.\n",
    "log_reg_clf.fit(X, y)"
   ]
  },
  {
   "cell_type": "code",
   "execution_count": 27,
   "metadata": {},
   "outputs": [
    {
     "name": "stdout",
     "output_type": "stream",
     "text": [
      "('Logistic Regression Accuracy = ', 87.2340425531915)\n"
     ]
    }
   ],
   "source": [
    "print('Logistic Regression Accuracy = ', test_model(log_reg_clf, test_X, test_y))"
   ]
  },
  {
   "cell_type": "markdown",
   "metadata": {},
   "source": [
    "### Logistic Regression Visualization"
   ]
  },
  {
   "cell_type": "code",
   "execution_count": 38,
   "metadata": {},
   "outputs": [
    {
     "data": {
      "image/png": "[encoded data removed]",
      "text/plain": [
       "<matplotlib.figure.Figure at 0x7f89b330a150>"
      ]
     },
     "metadata": {},
     "output_type": "display_data"
    }
   ],
   "source": [
    "h = .02  # step size in the mesh\n",
    "# Plot the decision boundary. For that, we will assign a color to each\n",
    "# point in the mesh [x_min, x_max]x[y_min, y_max].\n",
    "x_min, x_max = X[:, 0].min() - .5, X[:, 0].max() + .5\n",
    "y_min, y_max = X[:, 1].min() - .5, X[:, 1].max() + .5\n",
    "xx, yy = np.meshgrid(np.arange(x_min, x_max, h), np.arange(y_min, y_max, h))\n",
    "Z = log_reg_clf.predict(np.c_[xx.ravel(), yy.ravel()])\n",
    "\n",
    "# Put the result into a color plot\n",
    "Z = Z.reshape(xx.shape)\n",
    "plt.figure(1, figsize=(4, 3))\n",
    "plt.pcolormesh(xx, yy, Z, cmap=plt.cm.RdYlBu)\n",
    "\n",
    "# Plot also the training points\n",
    "y_clrs = ['r' if elem==0 else 'b' for elem in y]\n",
    "plt.scatter(X[:, 0], X[:, 1], c=y_clrs, edgecolors='k', cmap=plt.cm.Paired)\n",
    "plt.xlabel('Circularity')\n",
    "plt.ylabel('Compactness')\n",
    "\n",
    "plt.xlim([0.1, 1.2])\n",
    "plt.ylim([0.2, 1.5])\n",
    "\n",
    "plt.show()"
   ]
  },
  {
   "cell_type": "code",
   "execution_count": null,
   "metadata": {
    "collapsed": true
   },
   "outputs": [],
   "source": []
  }
 ],
 "metadata": {
  "kernelspec": {
   "display_name": "Python 2",
   "language": "python",
   "name": "python2"
  },
  "language_info": {
   "codemirror_mode": {
    "name": "ipython",
    "version": 2
   },
   "file_extension": ".py",
   "mimetype": "text/x-python",
   "name": "python",
   "nbconvert_exporter": "python",
   "pygments_lexer": "ipython2",
   "version": "2.7.6"
  }
 },
 "nbformat": 4,
 "nbformat_minor": 2
}
